{
 "cells": [
  {
   "cell_type": "code",
   "execution_count": 1,
   "id": "8df7c128",
   "metadata": {},
   "outputs": [],
   "source": [
    "# This code calculates the wind turbine blade mass.\n",
    "# Input format: [[P1,P2,P3,P4,P5],[P1,P2,P3,P4,P5],[P1,P2,P3,P4,P5],[P1,P2,P3,P4,P5]]\n",
    "# Output: Returns corresponding thickness in a list\n",
    "\n",
    "def mass(core_thk):\n",
    "    density_carbon_fiber=1750\n",
    "\n",
    "    area_A=48.62\n",
    "    thk_A=0.0003*8\n",
    "\n",
    "    area_SL=17.45\n",
    "    thk_SL=0.0003*4\n",
    "\n",
    "    area_SC=30.86\n",
    "    thk_SC=0.0003*4\n",
    "\n",
    "    area_C=44.45\n",
    "    thk_C=0.0003*60\n",
    "\n",
    "    area_SR=13.40\n",
    "    thk_SR=0.0003*4\n",
    "\n",
    "    area_D=44.17+43.79\n",
    "    thk_D=0.0003*8\n",
    "\n",
    "    # Vol= area * thickness\n",
    "    # Total Carbon_fiber_vol:\n",
    "    Vol_total_cf=(area_A*thk_A)+(area_SL*thk_SL)+(area_SC*thk_SC)+(area_C*thk_C)+(area_SR*thk_SR)+(area_D*thk_D)\n",
    "\n",
    "    mass_cf= density_carbon_fiber * Vol_total_cf\n",
    "    print(f'Total mass of carbon fiber: {mass_cf}')\n",
    "\n",
    "    #***************************************************************************************************************\n",
    "    density_core=140    #Balsa wood\n",
    "\n",
    "    #core_thk=[A1,A2,A3,A4,A5,S1,S2,S3,S4,S5,D1,D2,D3,D4,D5]\n",
    "    #core_thk=[0.015,0.015,0.015,0.015,0.015,0.015,0.015,0.015,0.015,0.015,0.03,0.03,0.03,0.03,0.03]\n",
    "\n",
    "    area_A1,area_A2,area_A3,area_A4,area_A5=5.21,7.50,9.83,12.73,13.36\n",
    "    A1,A2,A3,A4,A5=core_thk[0],core_thk[1],core_thk[2],core_thk[3],core_thk[4]\n",
    "\n",
    "    Vol_A=(area_A1*A1)+(area_A2*A2)+(area_A3*A3)+(area_A4*A4)+(area_A5*A5)\n",
    "\n",
    "    area_SL1,area_SL2,area_SL3,area_SL4,area_SL5=1.34,2.30,3.01,5.26,5.54\n",
    "    S1,S2,S3,S4,S5=core_thk[0],core_thk[1],core_thk[2],core_thk[3],core_thk[4]\n",
    "    Vol_SL=(area_SL1*S1)+(area_SL2*S2)+(area_SL3*S3)+(area_SL4*S4)+(area_SL5*S5)\n",
    "\n",
    "    area_SR1,area_SR2,area_SR3,area_SR4,area_SR5=1.14,1.74,2.29,4.04,4.19\n",
    "    S1,S2,S3,S4,S5=core_thk[0],core_thk[1],core_thk[2],core_thk[3],core_thk[4]\n",
    "    Vol_SR=(area_SR1*S1)+(area_SR2*S2)+(area_SR3*S3)+(area_SR4*S4)+(area_SR5*S5)\n",
    "\n",
    "    area_D1,area_D2,area_D3,area_D4,area_D5=9.45,13.37,17.93,23.14,24.08\n",
    "    D1,D2,D3,D4,D5=core_thk[0],core_thk[1],core_thk[2],core_thk[3],core_thk[4]\n",
    "\n",
    "    Vol_D=(area_D1*D1)+(area_D2*D2)+(area_D3*D3)+(area_D4*D4)+(area_D5*D5)\n",
    "\n",
    "    Vol_total_core=Vol_A+Vol_SL+Vol_SR+Vol_D\n",
    "\n",
    "    mass_core= density_core * Vol_total_core\n",
    "    print(f'Total mass of core: {mass_core}')\n",
    "\n",
    "    Total_blade_mass=mass_cf+mass_core\n",
    "    print(f'Total mass of blade: {Total_blade_mass}')\n",
    "    #return Total_blade_mass"
   ]
  },
  {
   "cell_type": "code",
   "execution_count": 3,
   "id": "887d943d",
   "metadata": {},
   "outputs": [
    {
     "name": "stdout",
     "output_type": "stream",
     "text": [
      "Total mass of carbon fiber: 2103.402\n",
      "Total mass of core: 8157.379999999999\n",
      "Total mass of blade: 10260.782\n"
     ]
    }
   ],
   "source": [
    "# Example:\n",
    "mass([0.1,0.2,0.3,0.4,0.5])"
   ]
  },
  {
   "cell_type": "code",
   "execution_count": null,
   "id": "78287971",
   "metadata": {},
   "outputs": [],
   "source": [
    "# For passing multiple inputs (Ex: [[P1,P2,P3,P4,P5],[P1,P2,P3,P4,P5],[P1,P2,P3,P4,P5],[P1,P2,P3,P4,P5]]),\n",
    "# Just comment the print statements and enable the return statement at the end."
   ]
  }
 ],
 "metadata": {
  "kernelspec": {
   "display_name": "Python 3 (ipykernel)",
   "language": "python",
   "name": "python3"
  },
  "language_info": {
   "codemirror_mode": {
    "name": "ipython",
    "version": 3
   },
   "file_extension": ".py",
   "mimetype": "text/x-python",
   "name": "python",
   "nbconvert_exporter": "python",
   "pygments_lexer": "ipython3",
   "version": "3.9.7"
  }
 },
 "nbformat": 4,
 "nbformat_minor": 5
}
